{
 "cells": [
  {
   "cell_type": "markdown",
   "metadata": {},
   "source": [
    "# 動態網頁爬蟲 - API Request\n",
    "\n",
    "* 了解 API Request 用於動態網頁爬蟲的原理\n",
    "* 能夠使用 API Request 撰寫動態網頁爬蟲\n",
    "\n",
    "\n",
    "\n",
    "\n"
   ]
  },
  {
   "cell_type": "markdown",
   "metadata": {},
   "source": [
    "## 作業目標\n",
    "\n",
    "* 根據範例的教學，去找出 Dcard 中呼叫的 API 當中，有一個跟「取得所有看板」是哪一個？並且利用 Requests 呼叫。\n"
   ]
  },
  {
   "cell_type": "markdown",
   "metadata": {},
   "source": [
    "* 請附上截圖：_______\n",
    "\n",
    "![]()"
   ]
  },
  {
   "cell_type": "code",
   "execution_count": 2,
   "metadata": {},
   "outputs": [
    {
     "data": {
      "text/plain": [
       "[{'updatedAt': '2020-10-29T13:01:24.805Z',\n",
       "  'createdAt': '2020-10-23T11:16:09.413Z',\n",
       "  'forum': 'all',\n",
       "  'position': 'banner',\n",
       "  'condition': {'excludeCountries': ['HK', 'MO']},\n",
       "  'expiredAt': '2020-11-03T08:00:00.000Z',\n",
       "  'publishedAt': '2020-11-02T07:00:00.000Z',\n",
       "  'duration': 5000,\n",
       "  'actions': [{'url': 'https://www.dcard.tw/goods',\n",
       "    'type': 'neutral',\n",
       "    'label': 'OK'}],\n",
       "  'rankWeight': 1,\n",
       "  'media': [{'url': 'https://megapx-assets.dcard.tw/images/225a7821-7664-4be4-9448-742625371f58/full.png',\n",
       "    'type': 'image/png',\n",
       "    'width': 1800,\n",
       "    'height': 600}],\n",
       "  'title': '20201102 EC底家花起來（全站',\n",
       "  'id': '22be5370-ae56-46d0-8736-2d327cba58d9'}]"
      ]
     },
     "execution_count": 2,
     "metadata": {},
     "output_type": "execute_result"
    }
   ],
   "source": [
    "'''\n",
    "Your Code\n",
    "'''\n",
    "url = 'https://www.dcard.tw/f'\n",
    "\n",
    "import requests\n",
    "import json\n",
    "\n",
    "r = requests.get('https://www.dcard.tw/service/carousel/v3/forums/all/banners?rank=0&country=TW&type=htmlOrImage')\n",
    "d = json.loads(r.text)\n",
    "\n",
    "d"
   ]
  },
  {
   "cell_type": "code",
   "execution_count": null,
   "metadata": {},
   "outputs": [],
   "source": []
  },
  {
   "cell_type": "code",
   "execution_count": null,
   "metadata": {},
   "outputs": [],
   "source": []
  }
 ],
 "metadata": {
  "kernelspec": {
   "display_name": "Python 3",
   "language": "python",
   "name": "python3"
  },
  "language_info": {
   "codemirror_mode": {
    "name": "ipython",
    "version": 3
   },
   "file_extension": ".py",
   "mimetype": "text/x-python",
   "name": "python",
   "nbconvert_exporter": "python",
   "pygments_lexer": "ipython3",
   "version": "3.6.9"
  }
 },
 "nbformat": 4,
 "nbformat_minor": 2
}
