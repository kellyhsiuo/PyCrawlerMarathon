{
 "cells": [
  {
   "cell_type": "markdown",
   "metadata": {},
   "source": [
    "# PTT 網路爬蟲實作練習\n",
    "\n",
    "\n",
    "* 能夠利用 Request + BeatifulSour 撰寫爬蟲，並存放到合適的資料結構\n"
   ]
  },
  {
   "cell_type": "markdown",
   "metadata": {},
   "source": [
    "## 作業目標\n",
    "\n",
    "根據範例 ，完成以下問題：\n",
    "\n",
    "* ① 印出最新文章的「作者」「標題」「時間」\n",
    "* ② 印出第一頁所有文章的「作者」「標題」「時間」\n"
   ]
  },
  {
   "cell_type": "markdown",
   "metadata": {},
   "source": [
    "### ① 印出最新文章的「作者」「標題」「時間」"
   ]
  },
  {
   "cell_type": "code",
   "execution_count": 6,
   "metadata": {},
   "outputs": [
    {
     "name": "stdout",
     "output_type": "stream",
     "text": [
      "[情報] 最近選秀流言整理\n",
      "作者: f820203 (frankkao)\n",
      "時間 Sat Oct 31 02:28:21 2020 \n",
      "\n"
     ]
    }
   ],
   "source": [
    "'''\n",
    "Your Code\n",
    "'''\n",
    "import requests\n",
    "from bs4 import BeautifulSoup\n",
    "\n",
    "url = 'https://www.ptt.cc/bbs/NBA/index.html'\n",
    "r = requests.get(url)\n",
    "\n",
    "soup = BeautifulSoup(r.text, \"html5lib\")\n",
    "\n",
    "d = soup.find_all(class_=\"title\")\n",
    "print(d[1].text.replace('\\t', '').replace('\\n', ''))\n",
    "r = BeautifulSoup(requests.get('https://www.ptt.cc'+d[1].find('a')['href']).text, \"html5lib\")\n",
    "print('作者: ' + r.find(class_='article-meta-value').text)\n",
    "print(r.find_all(class_='article-meta-tag')[-1].text,r.find_all(class_='article-meta-value')[-1].text,'\\n')\n"
   ]
  },
  {
   "cell_type": "markdown",
   "metadata": {},
   "source": [
    "### ② 印出第一頁所有文章的「作者」「標題」「時間」"
   ]
  },
  {
   "cell_type": "code",
   "execution_count": 7,
   "metadata": {},
   "outputs": [
    {
     "name": "stdout",
     "output_type": "stream",
     "text": [
      "[新聞] 談勇士再起關鍵 李文斯頓：全員皆兵展現\n",
      "作者: Gotham (萬惡之城)\n",
      "時間 Fri Oct 30 23:38:18 2020 \n",
      "\n",
      "[情報] 最近選秀流言整理\n",
      "作者: f820203 (frankkao)\n",
      "時間 Sat Oct 31 02:28:21 2020 \n",
      "\n",
      "[討論] 火箭下季的薪資狀況和球員配置\n",
      "作者: justgetup (Kono Dio Da!)\n",
      "時間 Sat Oct 31 03:16:34 2020 \n",
      "\n",
      "Re: [情報] 幾件外流的新球衣\n",
      "作者: LABOYS (洛城浪子)\n",
      "時間 Sat Oct 31 09:34:33 2020 \n",
      "\n",
      "[情報] 若11/7前雙方無法達成協議,賽季將停擺\n",
      "作者: sezna (sezna)\n",
      "時間 Sat Oct 31 09:59:14 2020 \n",
      "\n",
      "Re: [情報] 若11/7前雙方無法達成協議,賽季將停擺\n",
      "作者: azlbf (上邪!我欲與君相知)\n",
      "時間 Sat Oct 31 10:34:52 2020 \n",
      "\n",
      "(本文已被刪除) [scottaa]\n",
      "[情報] Bleacher Report在2015年時  預測的2020年球員排名\n",
      "作者: VeryGoodBoy (很棒的男孩)\n",
      "時間 Sat Oct 31 12:43:36 2020 \n",
      "\n",
      "[花邊] 迎娶牙醫女友 麥凱倫：男人最大財富是他\n",
      "作者: gt097231 (喝不膩的綠茶)\n",
      "時間 Sat Oct 31 12:54:21 2020 \n",
      "\n",
      "(本文已被刪除) [wwf1588]\n",
      "Re: [討論] 火箭下季的薪資狀況和球員配置\n",
      "作者: azlbf (上邪!我欲與君相知)\n",
      "時間 Sat Oct 31 14:56:39 2020 \n",
      "\n",
      "[公告] 板規v6.8\n",
      "[公告] 第一次被退文，可在三天後刪除退文\n",
      "作者: Vedan (味丹)\n",
      "時間 Mon Mar  9 11:44:26 2020 \n",
      "\n",
      "[情報] Playoffs Schedule 19–20\n",
      "作者: Acetoxy (阿斯)\n",
      "時間 Tue Aug 18 04:10:40 2020 \n",
      "\n",
      "[公告] 季後賽條款於10/14零時解除\n",
      "作者: namie810303 (爽喔!! 你看看你)\n",
      "時間 Tue Oct 13 22:39:02 2020 \n",
      "\n"
     ]
    }
   ],
   "source": [
    "'''\n",
    "Your Code\n",
    "'''\n",
    "import requests\n",
    "from bs4 import BeautifulSoup\n",
    "\n",
    "url = 'https://www.ptt.cc/bbs/NBA/index.html'\n",
    "r = requests.get(url)\n",
    "\n",
    "soup = BeautifulSoup(r.text, \"html5lib\")\n",
    "\n",
    "for d in soup.find_all(class_=\"title\"):\n",
    "    print(d.text.replace('\\t', '').replace('\\n', ''))\n",
    "    try:\n",
    "        r = BeautifulSoup(requests.get('https://www.ptt.cc'+d.find('a')['href']).text, \"html5lib\")\n",
    "        print('作者: ' + r.find(class_='article-meta-value').text)\n",
    "        print(r.find_all(class_='article-meta-tag')[-1].text,r.find_all(class_='article-meta-value')[-1].text,'\\n')\n",
    "    except:\n",
    "        continue\n",
    "        "
   ]
  },
  {
   "cell_type": "markdown",
   "metadata": {},
   "source": [
    "### ③ 試著爬爬看其他版的文章"
   ]
  },
  {
   "cell_type": "code",
   "execution_count": 8,
   "metadata": {},
   "outputs": [
    {
     "name": "stdout",
     "output_type": "stream",
     "text": [
      "[新聞] 套利看過來｜行家教戰「買整張賣零股」　\n",
      "作者: pipiboygay (喜歡男人的男生)\n",
      "時間 Sat Oct 31 12:05:52 2020 \n",
      "\n",
      "[新聞] 威斯康辛州認定不符賦稅抵免資格 鴻海不\n",
      "作者: CavendishJr (真禮梅西姐姐♡)\n",
      "時間 Sat Oct 31 12:17:32 2020 \n",
      "\n",
      "[新聞] 不確定性消除... 美大選後再戰萬三\n",
      "作者: hvariables (Speculative Male)\n",
      "時間 Sat Oct 31 12:23:57 2020 \n",
      "\n",
      "[請益] Twitter股價大跌是不是川普總統當選信號？\n",
      "作者: hyoerious (面具)\n",
      "時間 Sat Oct 31 13:22:56 2020 \n",
      "\n",
      "[新聞] 中鋼衝精緻鋼廠 拚轉盈\n",
      "作者: Westbrook (Russell Westbrook)\n",
      "時間 Sat Oct 31 13:40:18 2020 \n",
      "\n",
      "[新聞] 螞蟻集團IPO 吸引3兆美元散戶搶購\n",
      "作者: horseorange (橘小馬)\n",
      "時間 Sat Oct 31 14:04:51 2020 \n",
      "\n",
      "[請益] 關於標借費的計算方式 \n",
      "作者: loken0408 (男人野蠻劍)\n",
      "時間 Sat Oct 31 14:06:37 2020 \n",
      "\n",
      "Re: [新聞] 蘋果被小米超越 智慧手機第3季出貨量落居\n",
      "作者: drraujn (Hike)\n",
      "時間 Sat Oct 31 14:20:49 2020 \n",
      "\n",
      "[新聞] 中國各省市前3季GDP出爐 湖北省墊底  \n",
      "作者: CavendishJr (真禮梅西姐姐♡)\n",
      "時間 Sat Oct 31 15:09:46 2020 \n",
      "\n",
      "[情報] 十一月除權息法說會行事曆 (每日更新)\n",
      "Re: [新聞] 蘋果被小米超越 智慧手機第3季出貨量落居\n",
      "作者: good5755 (竹子)\n",
      "時間 Sat Oct 31 16:03:20 2020 \n",
      "\n",
      "[標的] 國泰台灣5G+ETF （未開始募集）\n",
      "作者: z765212121 (看電視戴眼鏡)\n",
      "時間 Sat Oct 31 16:12:30 2020 \n",
      "\n",
      "1-4-3(已被yoche2000刪除) <q81566970>\n",
      "[公告] Stock 板規V2.7\n",
      "[公告] 股板十一月徵文活動 我的操盤工具箱\n",
      "作者: yoche2000 (壽司 不是版是板啦乾)\n",
      "時間 Sat Oct 24 22:44:14 2020 \n",
      "\n",
      "[公告] Stock 板 開始舉辦樂透!\n",
      "作者: yoche2000\n",
      "時間 Fri Oct 30 14:01:53 2020 \n",
      "\n",
      "[情報] 十一月除權息法說會行事曆 (每日更新)\n",
      "[閒聊] 2020/10/30 盤後閒聊\n",
      "作者: LECOQNIKO (克拉克)\n",
      "時間 Fri Oct 30 14:00:01 2020 \n",
      "\n"
     ]
    }
   ],
   "source": [
    "'''\n",
    "Your Code\n",
    "'''\n",
    "\n",
    "import requests\n",
    "from bs4 import BeautifulSoup\n",
    "\n",
    "url = 'https://www.ptt.cc/bbs/Stock/index.html'\n",
    "r = requests.get(url)\n",
    "\n",
    "soup = BeautifulSoup(r.text, \"html5lib\")\n",
    "\n",
    "for d in soup.find_all(class_=\"title\"):\n",
    "    print(d.text.replace('\\t', '').replace('\\n', ''))\n",
    "    try:\n",
    "        r = BeautifulSoup(requests.get('https://www.ptt.cc'+d.find('a')['href']).text, \"html5lib\")\n",
    "        print('作者: ' + r.find(class_='article-meta-value').text)\n",
    "        print(r.find_all(class_='article-meta-tag')[-1].text,r.find_all(class_='article-meta-value')[-1].text,'\\n')\n",
    "    except:\n",
    "        continue"
   ]
  },
  {
   "cell_type": "code",
   "execution_count": null,
   "metadata": {},
   "outputs": [],
   "source": []
  }
 ],
 "metadata": {
  "kernelspec": {
   "display_name": "Python 3",
   "language": "python",
   "name": "python3"
  },
  "language_info": {
   "codemirror_mode": {
    "name": "ipython",
    "version": 3
   },
   "file_extension": ".py",
   "mimetype": "text/x-python",
   "name": "python",
   "nbconvert_exporter": "python",
   "pygments_lexer": "ipython3",
   "version": "3.6.9"
  }
 },
 "nbformat": 4,
 "nbformat_minor": 2
}
