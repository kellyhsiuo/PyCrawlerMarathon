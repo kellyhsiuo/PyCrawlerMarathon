{
 "cells": [
  {
   "cell_type": "markdown",
   "metadata": {},
   "source": [
    "# 動態網頁爬蟲 - 使用 Selenium\n",
    "\n",
    "* 了解 Selenium 用於動態網頁爬蟲的原理\n",
    "* 能夠使用 Selenium 撰寫動態網頁爬蟲"
   ]
  },
  {
   "cell_type": "markdown",
   "metadata": {},
   "source": [
    "## 作業目標\n",
    "\n",
    "* 1. 根據範例使用 selenuim 取出 Hahow 網站中所有課程的資料，並用一個適合的資料結構儲存（Hint: 將所有資料存在一個變數當中取出）\n",
    "* 2. 剛剛的做法只能取出第一頁，試著取出所有頁面的資料。\n",
    "\n"
   ]
  },
  {
   "cell_type": "markdown",
   "metadata": {},
   "source": [
    "### 1. 根據範例使用 selenuim 取出 Hahow 網站中所有課程的資料，並用一個適合的資料結構儲存（Hint: 將所有資料存在一個變數當中取出）"
   ]
  },
  {
   "cell_type": "code",
   "execution_count": null,
   "metadata": {},
   "outputs": [],
   "source": [
    "from selenium import webdriver\n",
    "from selenium.webdriver.support.ui import Select\n",
    "from bs4 import BeautifulSoup\n",
    "\n",
    "browser = webdriver.Chrome(executable_path='chromedriver')\n",
    "browser.get(\"https://hahow.in/courses\")"
   ]
  },
  {
   "cell_type": "code",
   "execution_count": null,
   "metadata": {},
   "outputs": [],
   "source": [
    "# 取得資料（等瀏覽器資料出現後才執行）\n",
    "html_source = browser.page_source\n",
    "html_source\n",
    "\n",
    "# 取得資料\n",
    "html_source = browser.page_source\n",
    "soup = BeautifulSoup(html_source, 'html.parser')\n",
    "print(soup)"
   ]
  },
  {
   "cell_type": "code",
   "execution_count": null,
   "metadata": {},
   "outputs": [],
   "source": [
    "course = []\n",
    "    \n",
    "'''\n",
    "Your Code\n",
    "'''\n",
    "titles = soup.find_all('h4',class_='title')\n",
    "print(titles)"
   ]
  },
  {
   "cell_type": "code",
   "execution_count": null,
   "metadata": {},
   "outputs": [],
   "source": [
    "browser.close()"
   ]
  },
  {
   "cell_type": "markdown",
   "metadata": {},
   "source": [
    "### 2. 剛剛的做法只能取出第一頁，試著取出所有頁面的資料。"
   ]
  },
  {
   "cell_type": "code",
   "execution_count": 1,
   "metadata": {},
   "outputs": [],
   "source": [
    "from selenium import webdriver\n",
    "from selenium.webdriver.support.ui import Select\n",
    "from bs4 import BeautifulSoup\n",
    "import requests\n",
    "\n",
    "browser = webdriver.Chrome(executable_path='chromedriver')\n",
    "browser.get(\"https://hahow.in/courses\")"
   ]
  },
  {
   "cell_type": "code",
   "execution_count": 2,
   "metadata": {},
   "outputs": [],
   "source": [
    "# 取得資料（等瀏覽器資料出現後才執行）\n",
    "html_source = browser.page_source\n",
    "soup = BeautifulSoup(html_source, 'html.parser')\n"
   ]
  },
  {
   "cell_type": "code",
   "execution_count": 3,
   "metadata": {},
   "outputs": [
    {
     "name": "stdout",
     "output_type": "stream",
     "text": [
      "128\n"
     ]
    }
   ],
   "source": [
    "# 1. 先取出全部有幾頁\n",
    "    \n",
    "'''\n",
    "Your Code\n",
    "'''\n",
    "total_pages = len(browser.find_elements_by_tag_name('a'))\n",
    "print(total_pages)"
   ]
  },
  {
   "cell_type": "code",
   "execution_count": 4,
   "metadata": {},
   "outputs": [],
   "source": [
    "# 2. 每頁都取出資料放入 courses\n",
    "\n",
    "titles = soup.find_all('h4',class_='title')\n",
    "courses = []\n",
    "\n",
    "\n",
    "for i in range(total_pages):\n",
    "\n",
    "    courses = soup.find_all('h4',class_='title')\n",
    "    print(courses)\n",
    "\n"
   ]
  },
  {
   "cell_type": "code",
   "execution_count": 5,
   "metadata": {},
   "outputs": [
    {
     "name": "stdout",
     "output_type": "stream",
     "text": [
      "[<h4 class=\"title marg-t-20 marg-b-10\">品牌包裝設計學：從包裝建立最佳使用體驗</h4>, <h4 class=\"title marg-t-20 marg-b-10\">獸醫師 × 寵物營養師｜腎臟病貓狗必修課</h4>, <h4 class=\"title marg-t-20 marg-b-10\">Today at Apple:和攝影師 Paddy 用 iPhone 拍出商業空間形象照</h4>, <h4 class=\"title marg-t-20 marg-b-10\">Today at Apple:和設計師馮宇拆解商業 LOGO 案例</h4>, <h4 class=\"title marg-t-20 marg-b-10\">Today at Apple\b:和攝影師 Ada Lin 用 iPhone 學習專業商品攝影</h4>, <h4 class=\"title marg-t-20 marg-b-10\">Python 資料分析：AI 機器學習入門到應用</h4>, <h4 class=\"title marg-t-20 marg-b-10\">余惟的生活時尚攝影：拍出日常裡的封面人物</h4>, <h4 class=\"title marg-t-20 marg-b-10\">雷浩斯價值投資：用質化分析找出價值成長股</h4>, <h4 class=\"title marg-t-20 marg-b-10\">火頭工做麵包：與酵母共舞，設計專屬配方</h4>, <h4 class=\"title marg-t-20 marg-b-10\">職場英文大補帖｜上班族的跨國會議必修課</h4>, <h4 class=\"title marg-t-20 marg-b-10\">【生活裡的花與器】風格美感花藝選搭課</h4>, <h4 class=\"title marg-t-20 marg-b-10\">數位轉型敲門磚，產業必學 AI 思維通識課</h4>, <h4 class=\"title marg-t-20 marg-b-10\">揮別五音不全：威宇老師的音準訓練課</h4>, <h4 class=\"title marg-t-20 marg-b-10\">一課思考學：你需要知道的一切，都在這一課</h4>, <h4 class=\"title marg-t-20 marg-b-10\">這樣做設計思考更有用！UX 有感提案術</h4>, <h4 class=\"title marg-t-20 marg-b-10\">創新先生瘋狂創造力：創造力思維與發想流程</h4>, <h4 class=\"title marg-t-20 marg-b-10\">基礎情境練習課：建立你的英文文法邏輯腦</h4>, <h4 class=\"title marg-t-20 marg-b-10\">藝用解剖學 2 - 凝望透視之眼 360 度全視野攻略</h4>, <h4 class=\"title marg-t-20 marg-b-10\">新手能上手！居家健身，肌群練習一次到位</h4>, <h4 class=\"title marg-t-20 marg-b-10\">婚禮企劃與主持入門課</h4>, <h4 class=\"title marg-t-20 marg-b-10\">黃瑽寧的 10 堂育兒必修課全系列</h4>, <h4 class=\"title marg-t-20 marg-b-10\">毛心潔的哺乳全攻略：觀念篇＋實作篇</h4>, <h4 class=\"title marg-t-20 marg-b-10\">鄧惠文的關係心理學：親子篇</h4>, <h4 class=\"title marg-t-20 marg-b-10\">10 堂課教出孩子的好情緒</h4>]\n"
     ]
    }
   ],
   "source": [
    "# 3. done!\n",
    "\n",
    "print(courses)"
   ]
  },
  {
   "cell_type": "code",
   "execution_count": null,
   "metadata": {},
   "outputs": [],
   "source": []
  }
 ],
 "metadata": {
  "kernelspec": {
   "display_name": "Python 3",
   "language": "python",
   "name": "python3"
  },
  "language_info": {
   "codemirror_mode": {
    "name": "ipython",
    "version": 3
   },
   "file_extension": ".py",
   "mimetype": "text/x-python",
   "name": "python",
   "nbconvert_exporter": "python",
   "pygments_lexer": "ipython3",
   "version": "3.6.9"
  }
 },
 "nbformat": 4,
 "nbformat_minor": 2
}
