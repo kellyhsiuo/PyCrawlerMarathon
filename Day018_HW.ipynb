{
 "cells": [
  {
   "cell_type": "markdown",
   "metadata": {},
   "source": [
    "# 瀏覽器開發者工具介紹\n",
    "\n",
    "\n",
    "* 知道瀏覽器的開發者工具\n",
    "* 能夠使用瀏覽器的開發者工具觀察資料\n"
   ]
  },
  {
   "cell_type": "markdown",
   "metadata": {},
   "source": [
    "## 作業目標\n",
    "\n",
    "利用開發者工具去尋找「 https://www.zhihu.com/explore 」和「 http://aicoin.cn 」網站的 HTTP 網址，以及他所帶的 Headers 分別是哪些，試著用 request 去發送有沒有帶 Headers 的差異。\n"
   ]
  },
  {
   "cell_type": "markdown",
   "metadata": {},
   "source": [
    "### 1. https://www.zhihu.com/explore "
   ]
  },
  {
   "cell_type": "code",
   "execution_count": 1,
   "metadata": {
    "scrolled": true
   },
   "outputs": [
    {
     "name": "stdout",
     "output_type": "stream",
     "text": [
      "<html>\r\n",
      "<head><title>400 Bad Request</title></head>\r\n",
      "<body bgcolor=\"white\">\r\n",
      "<center><h1>400 Bad Request</h1></center>\r\n",
      "<hr><center>openresty</center>\r\n",
      "</body>\r\n",
      "</html>\r\n",
      "\n"
     ]
    }
   ],
   "source": [
    "import requests\n",
    "url = 'https://www.zhihu.com/explore'\n",
    "r = requests.get(url)\n",
    "r.encoding = 'utf-8'\n",
    "print(r.text)"
   ]
  },
  {
   "cell_type": "markdown",
   "metadata": {},
   "source": [
    "### 利用查看開發者工具觀察 Headers\n",
    "\n",
    "```\n",
    "'''\n",
    "放上截圖\n",
    "'''\n",
    "```"
   ]
  },
  {
   "cell_type": "code",
   "execution_count": 5,
   "metadata": {},
   "outputs": [
    {
     "name": "stdout",
     "output_type": "stream",
     "text": [
      "�w���Y�����>\u0004�Z$d^���ן��#d�{��i�������J�Ќ@\u0002ְ���ni�WZ�,\u0006�\u0006$�$\\��=�qi\u0001��^\u0013{�58q6�\u0014��?�H�\u000b",
      "��}�U펨��\r",
      "���dr��\u000fO3O�\u001e",
      "?Y6�I\u001d",
      "M�\n",
      "��]\u000f��T��u\u001e",
      "�Ky�\b\u0012L�8�\u0014��۝�\u0007\u0002�\u0014,��\tP�䧔�I��vؑl�������h�yCuۥ��w*N:?�0s\u0005�Z��@��pi�\u0002��`5�jo�s��ҵ4��U�ڽSM��\u0014��\t�BjA��7@c@#�.����<g�\r",
      "b�\u0016��I�\u0004�����%\u0015`\u0017��B�sb*${A����A`�%{v\b�\u0006YҸ�g�����L��=�\u0000. \u0015UR�hfBT\"w�n�~˔]�\u0014�v}�6��Vzc�j���\bj�?ƌ�yeb��\u0018����A�M��l��UKc̋�ܒ��e�̨\u001a�1���\u0016|\u000e��\"�3x�\u0018�QSi���Qn܉,�O� ?`;���$\u001bf\u0002�\t[�3ث8�֚l\u001ag��\u000es�q��$7�\u0005n}m��\u001a�\u001c",
      "��%�yiG�^�\u0011���,�1T\u001a���/ߞ\u0010Ks�?,0�^�R�\f",
      "����sj6�5\u000b",
      "�,l~Ԗ�38��C�UlR�c��'aP8+\u0013k\tl�\u001c",
      "��Y<�\\��F$uS���n�Z�u��m�`��9u&��\u001c",
      "�s�M>��D\n",
      "���6�,�Aȶ(��\f",
      "f-��,��P�ɞN��y%,��|�\n"
     ]
    }
   ],
   "source": [
    "import requests\n",
    "url = 'http://www.zhihu.com'\n",
    "\n",
    "headers = {\n",
    "    'authority': 'www.zhihu.com',\n",
    "    'method': 'GET',\n",
    "    'path': '/',\n",
    "    'scheme': 'https',\n",
    "    'accept': 'text/html,application/xhtml+xml,application/xml;q=0.9,image/avif,image/webp,image/apng,*/*;q=0.8,application/signed-exchange;v=b3;q=0.9',\n",
    "    'accept-encoding': 'gzip, deflate, br',\n",
    "    'accept-language': 'zh-TW,zh;q=0.9,en-US;q=0.8,en;q=0.7,ko;q=0.6',\n",
    "    'cache-control': 'max-age=0',\n",
    "    'cookie': '_zap=5eac6001-ca5b-4405-9cd1-89ebf2d25975; d_c0=\"AHCkJ8LJlhCPThw80J0Fz4u0waweT8p5jy4=|1577777126\"; _ga=GA1.2.394221152.1584078940; _xsrf=Z5BONVV2FR5kLlbXlre1nIHuAsQoj25B; capsion_ticket=\"2|1:0|10:1604230462|14:capsion_ticket|44:MGZmN2EwYjFiYjhkNDJmMzk5ODA0ZjI2NDE2NzNkMjE=|ae530fb260e961373933bcd197c666c1a49241e4b1b7a6c4847a5d8dd42fd712\"; l_n_c=1; q_c1=ae5400c942ce480593012a552b8c3b86|1604230804000|1604230804000; n_c=1; __utma=51854390.394221152.1584078940.1604230806.1604230806.1; __utmb=51854390.0.10.1604230806; __utmc=51854390; __utmz=51854390.1604230806.1.1.utmcsr=(direct)|utmccn=(direct)|utmcmd=(none); __utmv=51854390.010--|3=entry_date=20201101=1; l_cap_id=\"ZTY1ZmFiNDQ2NzBhNDVmMjk3Y2Q0NDk1NjI0YTdiZmE=|1604231410|f925cb6a0948760b399d526029138d392d7d28fe\"; r_cap_id=\"YWM4YmUyZWMzYzQzNDAyYWE2MjVhY2QxMWIxYzVmMjQ=|1604231410|fc5108093e3f04749c303c8d995d7983bc1ee27f\"; cap_id=\"MTJkNzc0M2JkZDgyNGQ5YmJhMTUwMGE4OTczYzFhMDA=|1604231410|c3601bab4ca81c887fa16d4da0ab0e66ca7a4924\"; Hm_lvt_98beee57fd2ef70ccdd5ca52b9740c49=1604230462,1604232344; Hm_lpvt_98beee57fd2ef70ccdd5ca52b9740c49=1604233010; SESSIONID=ZrX7QQuXB1rIuV4qvtwonCrrKU1lpRw8ee1d5jQVrKU; KLBRSID=ca494ee5d16b14b649673c122ff27291|1604233011|1604230461; JOID=Ul0WAE_GCuCI460IAMU7_lYI39oSmX64uLb5e1iAPpTBkf85d_aredTirg4H8XnLr3HugACGN5Pk1GmLXNAs2ag=; osd=VF8WA0nACOCL5asKAMY9-FQI3NwUm367vrD7e1uGOJbBkvk_dfaof9Lgrg0B93vLrHfoggCFMZXm1GqNWtIs2q4=',\n",
    "    'sec-fetch-dest': 'document',\n",
    "    'sec-fetch-mode': 'navigate',\n",
    "    'sec-fetch-site': 'none',\n",
    "    'sec-fetch-user': '?1',\n",
    "    'upgrade-insecure-requests': '1',\n",
    "    'user-agent': 'Mozilla/5.0 (Linux; Android 6.0; Nexus 5 Build/MRA58N) AppleWebKit/537.36 (KHTML, like Gecko) Chrome/86.0.4240.111 Mobile Safari/537.36',\n",
    "}\n",
    "\n",
    "\n",
    "\n",
    "r = requests.get(url, headers=headers)\n",
    "\n",
    "r.encoding = 'utf-8'\n",
    "print(r.text[0:600])"
   ]
  },
  {
   "cell_type": "markdown",
   "metadata": {},
   "source": [
    "### 2. http://aicoin.cn"
   ]
  },
  {
   "cell_type": "code",
   "execution_count": 3,
   "metadata": {},
   "outputs": [
    {
     "name": "stdout",
     "output_type": "stream",
     "text": [
      "<!DOCTYPE html><html style=\"height:100%;width:100%\"><head><meta http-equiv=\"Content-Type\" content=\"text/html; charset=utf-8\" /><meta http-equiv=\"Server\" content=\"CloudWAF\" /><title id=\"title\">访问被拦截！</title><script>function bindall() {var requestid = \"30-31-25-20201101202016-80a7fc67\";if(requestid==null || requestid == \"\"){return;}document.getElementById(\"d\").innerText = requestid;}</script></head><body onload=\"bindall()\" style=\"height:100%;width:100%;margin:0px;font-family:Microsoft yahei\"><div><style type=\"text/css\">\t.button{float:right;margin-right:2rem;text-decoration:none;background:white;color:#e94d4c;padding: 5px 15px 5px 15px;font-size:1rem;font-family: 微软雅黑,宋体,Arial,Helvetica,Verdana,sans-serif;font-weight:bold;border-radius:0rem;border: none;-webkit-transition:all linear 0.30s;-moz-transition:all linear 0.30s;}.button:hover{text-decoration:none;background:#e94d4c;color:#f2f2f2;}</style><input type=\"button\" class=\"button\" onclick=\"changeLanguageZh()\" value=\"中文\"/><input type=\"button\" class=\"button\"  onclick=\"changeLanguageEn()\" value=\"English\"/></div><div style=\"min-height:13.125rem;height:17%;width:100%\"><div style=\"margin-top:3.75rem;margin-left:18.4375rem;height:52.38;width:83.04%;\"><svg xmlns=\"http://www.w3.org/2000/svg\" style=\"width: 3.125rem;height: 3.125rem\" viewBox=\"0 0 50 50\"><path fill=\"#e84e4c\" d=\"M25,0A25,25,0,1,0,50,25,25,25,0,0,0,25,0Zm1.6,37.16H22.85V33.41H26.6Zm0-6.63H22.85L22.35,13H27.1Z\"/></svg><font style=\"font-family:MicrosoftYaHei;font-size:4.375rem;color:#e94d4c;margin-left: 0.75rem;font-weight: bold;\">418</font></div><div style=\"margin-left:18.4375rem;height:47.62%;width:83.04%;\"><font id=\"a\" style=\"font-family:MicrosoftYaHei;font-size:1.875rem;color:#999999;word-wrap:break-word;\">您的请求疑似攻击行为！</font><p style=\"font-family:MicrosoftYaHei;font-size:0.9rem;color:#999999;word-wrap:break-word;\"><span id=\"c\">事件ID：</span><span style=\"color:#499df2\" id=\"d\">False alarm ID</p></div></div><div style=\"height:15.625rem;width:100%;min-width:105rem;\"><div style=\"margin-left:18.4375rem;float:left;width:50rem\"><p id=\"b\" style=\"margin-top:10px\">如果您是站长，您可以前往WAF控制台进行误报屏蔽设置，让您的访问不再被拦截</p></div></div></body><script>function changeLanguageZh() {document.getElementById(\"title\").innerHTML = \"访问被拦截！\";document.getElementById(\"a\").innerHTML = \"您的请求疑似攻击行为！\";document.getElementById(\"b\").innerHTML = \"如果您是站长，您可以前往WAF控制台进行误报屏蔽设置，让您的访问不再被拦截\";document.getElementById(\"c\").innerHTML = \"事件ID：\";}function changeLanguageEn() {document.getElementById(\"title\").innerHTML = \"The access is blocked.\";document.getElementById(\"a\").innerHTML = \"Sorry, your request has been intercepted because it appears to be an attack.\";document.getElementById(\"b\").innerHTML = \"If you are the webmaster, configure related parameters on the WAF console to allow your requests.\";document.getElementById(\"c\").innerHTML = \"Event ID:\";}var language = navigator.language || navigator.browserLanguage;if (language.indexOf('zh') > -1) {changeLanguageZh();} else if (language.indexOf('en') > -1) {changeLanguageEn();} else{changeLanguageZh();}</script></html>\n",
      "\n"
     ]
    }
   ],
   "source": [
    "import requests\n",
    "\n",
    "url = 'http://aicoin.cn/'\n",
    "r = requests.get(url)\n",
    "r.encoding = 'utf-8'\n",
    "print(r.text)"
   ]
  },
  {
   "cell_type": "markdown",
   "metadata": {},
   "source": [
    "### 利用查看開發者工具觀察 Headers\n",
    "\n",
    "```\n",
    "'''\n",
    "放上截圖\n",
    "'''\n",
    "```"
   ]
  },
  {
   "cell_type": "code",
   "execution_count": 4,
   "metadata": {},
   "outputs": [
    {
     "name": "stdout",
     "output_type": "stream",
     "text": [
      "\n"
     ]
    }
   ],
   "source": [
    "import requests\n",
    "url = 'http://aicoin.cn/'\n",
    "\n",
    "headers = {\n",
    "    'Accept': 'text/html,application/xhtml+xml,application/xml;q=0.9,image/avif,image/webp,image/apng,*/*;q=0.8,application/signed-exchange;v=b3;q=0.9',\n",
    "    'Accept-Encoding': 'gzip, deflate, br',\n",
    "    'Accept-Language': 'zh-TW,zh;q=0.9,en-US;q=0.8,en;q=0.7,ko;q=0.6',\n",
    "    'Cache-Control': 'max-age=0',\n",
    "    'Connection': 'keep-alive',    \n",
    "    'Cookie': 'HWWAFSESID=f4d4b2bcaa962038150; HWWAFSESTIME=1604232459475; __gads=ID=143b178ec115207f-22cbf97d7fc4004c:T=1604232465:RT=1604232465:S=ALNI_MahI6AhMh4cHFekFNAoUBJA34Symg; _pk_testcookie..undefined=1; _pk_testcookie.2.57ea=1; _ga=GA1.2.728195004.1604232465; _gid=GA1.2.1898194125.1604232465; Hm_lvt_3c606e4c5bc6e9ff490f59ae4106beb4=1604232466; _pk_ses.2.57ea=1; _pk_id.2.57ea=9be508a94b93d83c.1604232465.1.1604232618.1604232465.; Hm_lpvt_3c606e4c5bc6e9ff490f59ae4106beb4=1604232618; aicoin_session=eyJpdiI6ImVWSjZCT1NPQ2lYOFg5dVwvdWNSYXpBPT0iLCJ2YWx1ZSI6IkhleXdhSUt1KzVxZmlQMlpWZWYzQUF2eGdQUG1hQ1I2WTg3MW9ocjAxbnJ6NCtsVUxBVnAwUVdyWHg1c09FRUJOZnVCcnVQbDZlU3ZJREtqYjZVanJ3PT0iLCJtYWMiOiJmMzc4ZTEwYjlhNTE0ZGQwMTIwYmU5NjkyMWY4ZTZjYWMyNGFjOTg0ZTlkMGY0YWM5YzA3M2E3Njc2Yzg1M2E4In0%3D',\n",
    "    'Host': 'www.aicoin.cn',\n",
    "    'If-None-Match': 'W/\"18aee4-xAwCVrLz5qcgPwLKSHaeYm7Tgzo\"',\n",
    "    'Sec-Fetch-Dest': 'document',\n",
    "    'Sec-Fetch-Mode': 'navigate',\n",
    "    'Sec-Fetch-Site': 'same-origin',\n",
    "    'Sec-Fetch-User': '?1',\n",
    "    'Upgrade-Insecure-Requests': '1',\n",
    "    'User-Agent': 'Mozilla/5.0 (Linux; Android 6.0; Nexus 5 Build/MRA58N) AppleWebKit/537.36 (KHTML, like Gecko) Chrome/86.0.4240.111 Mobile Safari/537.36',\n",
    "}\n",
    "\n",
    "r = requests.get(url, headers=headers)\n",
    "print(r.text[0:600])"
   ]
  },
  {
   "cell_type": "code",
   "execution_count": null,
   "metadata": {},
   "outputs": [],
   "source": []
  },
  {
   "cell_type": "code",
   "execution_count": null,
   "metadata": {},
   "outputs": [],
   "source": []
  }
 ],
 "metadata": {
  "kernelspec": {
   "display_name": "Python 3",
   "language": "python",
   "name": "python3"
  },
  "language_info": {
   "codemirror_mode": {
    "name": "ipython",
    "version": 3
   },
   "file_extension": ".py",
   "mimetype": "text/x-python",
   "name": "python",
   "nbconvert_exporter": "python",
   "pygments_lexer": "ipython3",
   "version": "3.6.9"
  }
 },
 "nbformat": 4,
 "nbformat_minor": 2
}
